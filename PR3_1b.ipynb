{
  "nbformat": 4,
  "nbformat_minor": 0,
  "metadata": {
    "colab": {
      "name": "PR3-1b.ipynb",
      "provenance": [],
      "mount_file_id": "172ImyERYMtyFxe3C5CR3WxL4gumn3i4Q",
      "authorship_tag": "ABX9TyPAV2w5WZ4EnUF7k40JCh8e",
      "include_colab_link": true
    },
    "kernelspec": {
      "name": "python3",
      "display_name": "Python 3"
    },
    "accelerator": "GPU"
  },
  "cells": [
    {
      "cell_type": "markdown",
      "metadata": {
        "id": "view-in-github",
        "colab_type": "text"
      },
      "source": [
        "<a href=\"https://colab.research.google.com/github/dhruvthanki/CISC642/blob/main/PR3_1b.ipynb\" target=\"_parent\"><img src=\"https://colab.research.google.com/assets/colab-badge.svg\" alt=\"Open In Colab\"/></a>"
      ]
    },
    {
      "cell_type": "code",
      "metadata": {
        "id": "ojsM-4vm6y-l"
      },
      "source": [
        "import torch\n",
        "import torch.nn as nn\n",
        "import torch.optim as optim\n",
        "from torch.optim import lr_scheduler\n",
        "import numpy as np\n",
        "import torchvision\n",
        "from torchvision import datasets, models, transforms\n",
        "import time\n",
        "import os\n",
        "import copy\n",
        "import torch.nn.functional as F"
      ],
      "execution_count": null,
      "outputs": []
    },
    {
      "cell_type": "code",
      "metadata": {
        "id": "H6V9SegA67jT"
      },
      "source": [
        "data_transforms = transforms.Compose([transforms.Resize((224,224)),\n",
        "                                      transforms.ToTensor(),\n",
        "                                      transforms.Normalize((0.5, 0.5, 0.5), (0.5, 0.5, 0.5))])"
      ],
      "execution_count": null,
      "outputs": []
    },
    {
      "cell_type": "code",
      "metadata": {
        "colab": {
          "base_uri": "https://localhost:8080/"
        },
        "id": "AXF_QQ-96_9e",
        "outputId": "c71f9bfc-56fb-4e1f-a400-d3f6cfc937f9"
      },
      "source": [
        "trainset = torchvision.datasets.CIFAR100(root='./data', train = True, transform = data_transforms, download=True)\n",
        "trainloader = torch.utils.data.DataLoader(trainset, batch_size=16,shuffle=True, num_workers=2)"
      ],
      "execution_count": null,
      "outputs": [
        {
          "output_type": "stream",
          "text": [
            "Files already downloaded and verified\n"
          ],
          "name": "stdout"
        }
      ]
    },
    {
      "cell_type": "code",
      "metadata": {
        "id": "qj__Xern7ERe"
      },
      "source": [
        "class Model(nn.Module):\n",
        "    def __init__(self):\n",
        "        super(Model, self).__init__()\n",
        "        self.conv1 = nn.Conv2d(3, 32, kernel_size=3, padding=1, padding_mode='replicate')\n",
        "        self.conv2 = nn.Conv2d(32, 32, kernel_size=3, padding=1, padding_mode='replicate')\n",
        "        self.conv3 = nn.Conv2d(32, 64, kernel_size=3, padding=1, padding_mode='replicate')\n",
        "        self.fc1 = nn.Linear(28*28*64, 5000)\n",
        "        self.fc2 = nn.Linear(5000, 100)\n",
        "        self.pool = nn.MaxPool2d(2, 2)\n",
        "\n",
        "    def forward(self, x):\n",
        "        x = self.pool(F.relu(self.conv1(x)))\n",
        "        x = self.pool(F.relu(self.conv2(x)))\n",
        "        x = self.pool(F.relu(self.conv3(x)))\n",
        "        x = x.view(-1, 28*28*64)\n",
        "        x = F.relu(self.fc1(x))\n",
        "        x = self.fc2(x)\n",
        "        return x\n",
        "\n",
        "model = Model()"
      ],
      "execution_count": null,
      "outputs": []
    },
    {
      "cell_type": "code",
      "metadata": {
        "id": "DFetB0PK7Eqr"
      },
      "source": [
        "num_epochs = 30\n",
        "device = torch.device(\"cuda:0\" if torch.cuda.is_available() else \"cpu\")\n",
        "model = model.to(device)\n",
        "criterion = nn.CrossEntropyLoss()\n",
        "optimizer = optim.SGD(model.parameters(), lr=0.001, momentum=0.9)\n",
        "scheduler = lr_scheduler.StepLR(optimizer, step_size=7, gamma=0.1)"
      ],
      "execution_count": null,
      "outputs": []
    },
    {
      "cell_type": "code",
      "metadata": {
        "id": "sUqSnsqE7HWR",
        "colab": {
          "base_uri": "https://localhost:8080/"
        },
        "outputId": "9dcb617f-d9d9-46d8-b063-a3e836da3819"
      },
      "source": [
        "train = int(input(\"Enter 1 to train otherwise 0:\"))\n",
        "if train == 1:\n",
        "  model.train()\n",
        "  for epoch in range(num_epochs):  # loop over the dataset multiple times\n",
        "\n",
        "      running_loss = 0.0\n",
        "      for i, data in enumerate(trainloader, 0):\n",
        "          # get the inputs\n",
        "          inputs, labels = data\n",
        "          inputs, labels = inputs.cuda(), labels.cuda()\n",
        "\n",
        "          # zero the parameter gradients\n",
        "          optimizer.zero_grad()\n",
        "\n",
        "          # forward + backward + optimize\n",
        "          outputs = model(inputs)\n",
        "          loss = criterion(outputs, labels)\n",
        "          loss.backward()\n",
        "          optimizer.step()\n",
        "\n",
        "          # print statistics\n",
        "          running_loss += loss.item()\n",
        "          if i % 2000 == 1999:    # print every 2000 mini-batches\n",
        "              print('[%d, %5d] loss: %.3f' %\n",
        "                    (epoch + 1, i + 1, running_loss / 2000))\n",
        "              running_loss = 0.0\n",
        "\n",
        "  best_model_wts = copy.deepcopy(model.state_dict())\n",
        "  torch.save(best_model_wts , 'best_model_weight.pth')\n",
        "  print('Finished Training')\n",
        "else:\n",
        "  model.load_state_dict(torch.load('/content/drive/MyDrive/UD/Courses/CV/PR3/best_model_weight_PR3_1b.pth'))\n",
        "  model.eval()"
      ],
      "execution_count": null,
      "outputs": [
        {
          "output_type": "stream",
          "text": [
            "Enter 1 to train otherwise 0:0\n"
          ],
          "name": "stdout"
        }
      ]
    },
    {
      "cell_type": "code",
      "metadata": {
        "id": "9vT7mVlN7K9G",
        "colab": {
          "base_uri": "https://localhost:8080/"
        },
        "outputId": "7e04c1a4-92b7-4adf-a538-bac801a86bfc"
      },
      "source": [
        "testset = torchvision.datasets.CIFAR100(root='./data', train=False, transform = data_transforms, download=True)\n",
        "testloader = torch.utils.data.DataLoader(testset, batch_size=16,shuffle=True, num_workers=2)"
      ],
      "execution_count": null,
      "outputs": [
        {
          "output_type": "stream",
          "text": [
            "Files already downloaded and verified\n"
          ],
          "name": "stdout"
        }
      ]
    },
    {
      "cell_type": "code",
      "metadata": {
        "id": "Q611LAw37RZO",
        "colab": {
          "base_uri": "https://localhost:8080/"
        },
        "outputId": "c79919c6-0fe5-418e-9b55-65b20b519350"
      },
      "source": [
        "correct = 0\n",
        "total = 0\n",
        "with torch.no_grad():\n",
        "    for data in testloader:\n",
        "        images, labels = data\n",
        "        images, labels = images.cuda(), labels.cuda()\n",
        "        outputs = model(images)\n",
        "        _, predicted = torch.max(outputs.data, 1)\n",
        "        total += labels.size(0)\n",
        "        correct += (predicted == labels).sum().item()\n",
        "\n",
        "print('Accuracy of the network on the 10000 test images: %d %%' % (\n",
        "    100 * correct / total))"
      ],
      "execution_count": null,
      "outputs": [
        {
          "output_type": "stream",
          "text": [
            "Accuracy of the network on the 10000 test images: 35 %\n"
          ],
          "name": "stdout"
        }
      ]
    }
  ]
}